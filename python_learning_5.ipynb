{
 "cells": [
  {
   "cell_type": "markdown",
   "metadata": {},
   "source": [
    "# Multiple Function Arguments"
   ]
  },
  {
   "cell_type": "raw",
   "metadata": {},
   "source": [
    "Every function in Python receives a predefined number of arguments, if declared normally, like this:\n",
    "def myfunction(first, second, third):\n",
    "    # do something with the 3 variables\n",
    "    ...\n",
    "  declare functions which receive a variable number of arguments, using the following syntax:"
   ]
  },
  {
   "cell_type": "code",
   "execution_count": 2,
   "metadata": {},
   "outputs": [
    {
     "name": "stdout",
     "output_type": "stream",
     "text": [
      "First: a\n",
      "Second: aAF\n",
      "Third: SDAFLA\n",
      "And all the rest... ['AFULGKBK', 'FRAGRUKABRDNVJKDFSGBO']\n",
      "First: a\n",
      "Second: b\n",
      "Third: c\n",
      "And all the rest... []\n"
     ]
    }
   ],
   "source": [
    "def foo(first, second, third, *therest):\n",
    "    print(\"First: %s\" % first)\n",
    "    print(\"Second: %s\" % second)\n",
    "    print(\"Third: %s\" % third)\n",
    "    print(\"And all the rest... %s\" % list(therest))\n",
    "foo(\"a\",\"aAF\",\"SDAFLA\",\"AFULGKBK\",\"FRAGRUKABRDNVJKDFSGBO\")\n",
    "foo(\"a\",\"b\",\"c\")"
   ]
  },
  {
   "cell_type": "raw",
   "metadata": {},
   "source": [
    "It is also possible to send functions arguments by keyword, so that the order of the argument does not matter, using the following syntax. The following code yields the following output: The sum is: 6 Result: 1"
   ]
  },
  {
   "cell_type": "code",
   "execution_count": 3,
   "metadata": {},
   "outputs": [
    {
     "name": "stdout",
     "output_type": "stream",
     "text": [
      "The sum is: 6\n",
      "Result: 1\n"
     ]
    }
   ],
   "source": [
    "def bar(first, second, third, **options):\n",
    "    if options.get(\"action\") == \"sum\":\n",
    "        print(\"The sum is: %d\" %(first + second + third))\n",
    "\n",
    "    if options.get(\"number\") == \"first\":\n",
    "        return first\n",
    "\n",
    "result = bar(1, 2, 3, action = \"sum\", number = \"first\")\n",
    "print(\"Result: %d\" %(result))"
   ]
  },
  {
   "cell_type": "raw",
   "metadata": {},
   "source": [
    "The \"bar\" function receives 3 arguments. If an additional \"action\" argument is received, and it instructs on summing up the numbers, then the sum is printed out. Alternatively, the function also knows it must return the first argument, if the value of the \"number\" parameter, passed into the function, is equal to \"first\".\n",
    "\n",
    "Fill in the foo and bar functions so they can receive a variable amount of arguments (3 or more) The foo function must return the amount of extra arguments received. The bar must return True if the argument with the keyword magicnumber is worth 7, and False otherwise."
   ]
  },
  {
   "cell_type": "code",
   "execution_count": 4,
   "metadata": {},
   "outputs": [
    {
     "name": "stdout",
     "output_type": "stream",
     "text": [
      "Good.\n",
      "Better.\n",
      "Great.\n",
      "Awesome!\n"
     ]
    }
   ],
   "source": [
    "# edit the functions prototype and implementation\n",
    "def foo(a, b, c , *other):\n",
    "   li=list(other)\n",
    "   return len(li)\n",
    "\n",
    "def bar(a, b, c , **extra):\n",
    "    if extra.get(\"magicnumber\") == 7 :\n",
    "        return True\n",
    "    else :\n",
    "        return False\n",
    "\n",
    "# test code\n",
    "if foo(1,2,3,4) == 1:\n",
    "    print(\"Good.\")\n",
    "if foo(1,2,3,4,5) == 2:\n",
    "    print(\"Better.\")\n",
    "if bar(1,2,3,magicnumber = 6) == False:\n",
    "    print(\"Great.\")\n",
    "if bar(1,2,3,magicnumber = 7) == True:\n",
    "    print(\"Awesome!\")"
   ]
  },
  {
   "cell_type": "markdown",
   "metadata": {},
   "source": [
    "# Sets"
   ]
  },
  {
   "cell_type": "code",
   "execution_count": 5,
   "metadata": {},
   "outputs": [
    {
     "name": "stdout",
     "output_type": "stream",
     "text": [
      "{'Jake', 'Eric', 'John'}\n",
      "{'Jill', 'John'}\n"
     ]
    }
   ],
   "source": [
    "a = set([\"Jake\", \"John\", \"Eric\"])\n",
    "print(a)\n",
    "b = set([\"John\", \"Jill\"])\n",
    "print(b)"
   ]
  },
  {
   "cell_type": "code",
   "execution_count": 6,
   "metadata": {},
   "outputs": [
    {
     "name": "stdout",
     "output_type": "stream",
     "text": [
      "{'John'}\n",
      "{'John'}\n"
     ]
    }
   ],
   "source": [
    "print(a.intersection(b))\n",
    "print(b.intersection(a))"
   ]
  },
  {
   "cell_type": "raw",
   "metadata": {},
   "source": [
    "To find out which members attended only one of the events, use the \"symmetric_difference\" method:"
   ]
  },
  {
   "cell_type": "code",
   "execution_count": 7,
   "metadata": {},
   "outputs": [
    {
     "name": "stdout",
     "output_type": "stream",
     "text": [
      "{'Jake', 'Jill', 'Eric'}\n",
      "{'Jake', 'Eric', 'Jill'}\n"
     ]
    }
   ],
   "source": [
    "print(a.symmetric_difference(b))\n",
    "print(b.symmetric_difference(a))"
   ]
  },
  {
   "cell_type": "raw",
   "metadata": {},
   "source": [
    "To find out which members attended only one event and not the other, use the \"difference\" method:"
   ]
  },
  {
   "cell_type": "code",
   "execution_count": 8,
   "metadata": {},
   "outputs": [
    {
     "name": "stdout",
     "output_type": "stream",
     "text": [
      "{'Jake', 'Eric'}\n",
      "{'Jill'}\n"
     ]
    }
   ],
   "source": [
    "print(a.difference(b))\n",
    "print(b.difference(a))"
   ]
  },
  {
   "cell_type": "code",
   "execution_count": 9,
   "metadata": {},
   "outputs": [
    {
     "name": "stdout",
     "output_type": "stream",
     "text": [
      "{'John', 'Jake', 'Jill', 'Eric'}\n"
     ]
    }
   ],
   "source": [
    "print(a.union(b))"
   ]
  },
  {
   "cell_type": "raw",
   "metadata": {},
   "source": [
    "In the exercise below, use the given lists to print out a set containing all the participants from event A which did not attend event B. "
   ]
  },
  {
   "cell_type": "code",
   "execution_count": 10,
   "metadata": {},
   "outputs": [
    {
     "name": "stdout",
     "output_type": "stream",
     "text": [
      "{'Jake', 'Eric'}\n"
     ]
    }
   ],
   "source": [
    "a = set([\"Jake\", \"John\", \"Eric\"])\n",
    "b = set([\"John\", \"Jill\"])\n",
    "\n",
    "print(a.difference(b))"
   ]
  },
  {
   "cell_type": "markdown",
   "metadata": {},
   "source": [
    "# Code Introspection "
   ]
  },
  {
   "cell_type": "raw",
   "metadata": {},
   "source": [
    "Code introspection is the ability to examine classes, functions and keywords to know what they are, what they do and what they know.\n",
    "\n",
    "Python provides several functions and utilities for code introspection."
   ]
  },
  {
   "cell_type": "code",
   "execution_count": null,
   "metadata": {},
   "outputs": [
    {
     "name": "stdout",
     "output_type": "stream",
     "text": [
      "\n",
      "Welcome to Python 3.7's help utility!\n",
      "\n",
      "If this is your first time using Python, you should definitely check out\n",
      "the tutorial on the Internet at https://docs.python.org/3.7/tutorial/.\n",
      "\n",
      "Enter the name of any module, keyword, or topic to get help on writing\n",
      "Python programs and using Python modules.  To quit this help utility and\n",
      "return to the interpreter, just type \"quit\".\n",
      "\n",
      "To get a list of available modules, keywords, symbols, or topics, type\n",
      "\"modules\", \"keywords\", \"symbols\", or \"topics\".  Each module also comes\n",
      "with a one-line summary of what it does; to list the modules whose name\n",
      "or summary contain a given string such as \"spam\", type \"modules spam\".\n",
      "\n",
      "help> dir\n",
      "Help on built-in function dir in module builtins:\n",
      "\n",
      "dir(...)\n",
      "    dir([object]) -> list of strings\n",
      "    \n",
      "    If called without an argument, return the names in the current scope.\n",
      "    Else, return an alphabetized list of names comprising (some of) the attributes\n",
      "    of the given object, and of attributes reachable from it.\n",
      "    If the object supplies a method named __dir__, it will be used; otherwise\n",
      "    the default dir() logic is used and returns:\n",
      "      for a module object: the module's attributes.\n",
      "      for a class object:  its attributes, and recursively the attributes\n",
      "        of its bases.\n",
      "      for any other object: its attributes, its class's attributes, and\n",
      "        recursively the attributes of its class's base classes.\n",
      "\n"
     ]
    }
   ],
   "source": [
    "help()\n",
    "dir() \n",
    "hasattr() \n",
    "id() \n",
    "type() \n",
    "repr() \n",
    "callable() \n",
    "issubclass() \n",
    "isinstance() \n",
    "__doc__ \n",
    "__name__"
   ]
  },
  {
   "cell_type": "code",
   "execution_count": null,
   "metadata": {},
   "outputs": [],
   "source": [
    "help(dir)"
   ]
  },
  {
   "cell_type": "raw",
   "metadata": {},
   "source": [
    "Print a list of all attributes of the given Vehicle object."
   ]
  },
  {
   "cell_type": "code",
   "execution_count": 1,
   "metadata": {},
   "outputs": [
    {
     "name": "stdout",
     "output_type": "stream",
     "text": [
      "['__class__', '__delattr__', '__dict__', '__dir__', '__doc__', '__eq__', '__format__', '__ge__', '__getattribute__', '__gt__', '__hash__', '__init__', '__init_subclass__', '__le__', '__lt__', '__module__', '__ne__', '__new__', '__reduce__', '__reduce_ex__', '__repr__', '__setattr__', '__sizeof__', '__str__', '__subclasshook__', '__weakref__', 'color', 'description', 'kind', 'name', 'value']\n"
     ]
    }
   ],
   "source": [
    "class Vehicle:\n",
    "    name = \"\"\n",
    "    kind = \"car\"\n",
    "    color = \"\"\n",
    "    value = 100.00\n",
    "    def description(self):\n",
    "        desc_str = \"%s is a %s %s worth $%.2f.\" % (self.name, self.color, self.kind, self.value)\n",
    "        return desc_str\n",
    "\n",
    "# Print a list of all attributes of the Vehicle class.\n",
    "# Your code goes here\n",
    "print(dir(Vehicle))"
   ]
  }
 ],
 "metadata": {
  "kernelspec": {
   "display_name": "Python 3",
   "language": "python",
   "name": "python3"
  },
  "language_info": {
   "codemirror_mode": {
    "name": "ipython",
    "version": 3
   },
   "file_extension": ".py",
   "mimetype": "text/x-python",
   "name": "python",
   "nbconvert_exporter": "python",
   "pygments_lexer": "ipython3",
   "version": "3.7.6"
  }
 },
 "nbformat": 4,
 "nbformat_minor": 4
}
